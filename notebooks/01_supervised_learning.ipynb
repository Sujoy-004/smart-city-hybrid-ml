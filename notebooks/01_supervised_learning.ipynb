{
  "nbformat": 4,
  "nbformat_minor": 0,
  "metadata": {
    "colab": {
      "provenance": [],
      "collapsed_sections": [
        "TaYtLcAS8amf",
        "h-HNW9Ni9XZk",
        "O7BJAT68_qmb"
      ],
      "authorship_tag": "ABX9TyODp0MSKTe8agBb1mMn9zbs",
      "include_colab_link": true
    },
    "kernelspec": {
      "name": "python3",
      "display_name": "Python 3"
    },
    "language_info": {
      "name": "python"
    }
  },
  "cells": [
    {
      "cell_type": "markdown",
      "metadata": {
        "id": "view-in-github",
        "colab_type": "text"
      },
      "source": [
        "<a href=\"https://colab.research.google.com/github/Sujoy-004/smart-city-hybrid-ml/blob/main/notebooks/01_supervised_learning.ipynb\" target=\"_parent\"><img src=\"https://colab.research.google.com/assets/colab-badge.svg\" alt=\"Open In Colab\"/></a>"
      ]
    },
    {
      "cell_type": "markdown",
      "source": [
        "# Cell 1: Import libraries and load raw data"
      ],
      "metadata": {
        "id": "TaYtLcAS8amf"
      }
    },
    {
      "cell_type": "code",
      "source": [
        "import pandas as pd\n",
        "import numpy as np\n",
        "import matplotlib.pyplot as plt\n",
        "import seaborn as sns\n",
        "from datetime import datetime\n",
        "import warnings\n",
        "warnings.filterwarnings('ignore')\n",
        "\n",
        "# Set display options for better data exploration\n",
        "pd.set_option('display.max_columns', None)\n",
        "pd.set_option('display.max_rows', 100)\n",
        "\n",
        "print(\"Cell 1: Loading raw data...\")\n",
        "print(\"-\" * 50)\n",
        "\n",
        "# Load the raw Delhi AQI dataset\n",
        "df_raw = pd.read_csv('https://raw.githubusercontent.com/Sujoy-004/smart-city-hybrid-ml/refs/heads/main/data/raw/delhi_aqi.csv')\n",
        "print(f\"✅ Successfully loaded data from delhi_aqi.csv\")\n",
        "print(f\"📊 Dataset shape: {df_raw.shape} (rows, columns)\")\n",
        "df_raw.head()"
      ],
      "metadata": {
        "colab": {
          "base_uri": "https://localhost:8080/",
          "height": 275
        },
        "id": "akKghEhC8Vp_",
        "outputId": "56a068ea-d342-4308-f0d6-48c4926b3b66"
      },
      "execution_count": 23,
      "outputs": [
        {
          "output_type": "stream",
          "name": "stdout",
          "text": [
            "Cell 1: Loading raw data...\n",
            "--------------------------------------------------\n",
            "✅ Successfully loaded data from delhi_aqi.csv\n",
            "📊 Dataset shape: (1461, 12) (rows, columns)\n"
          ]
        },
        {
          "output_type": "execute_result",
          "data": {
            "text/plain": [
              "   Date  Month  Year  Holidays_Count  Days   PM2.5    PM10     NO2    SO2  \\\n",
              "0     1      1  2021               0     5  408.80  442.42  160.61  12.95   \n",
              "1     2      1  2021               0     6  404.04  561.95   52.85   5.18   \n",
              "2     3      1  2021               1     7  225.07  239.04  170.95  10.93   \n",
              "3     4      1  2021               0     1   89.55  132.08  153.98  10.42   \n",
              "4     5      1  2021               0     2   54.06   55.54  122.66   9.70   \n",
              "\n",
              "     CO  Ozone  AQI  \n",
              "0  2.77  43.19  462  \n",
              "1  2.60  16.43  482  \n",
              "2  1.40  44.29  263  \n",
              "3  1.01  49.19  207  \n",
              "4  0.64  48.88  149  "
            ],
            "text/html": [
              "\n",
              "  <div id=\"df-2ed8153e-f086-4a88-b4c5-663806a11718\" class=\"colab-df-container\">\n",
              "    <div>\n",
              "<style scoped>\n",
              "    .dataframe tbody tr th:only-of-type {\n",
              "        vertical-align: middle;\n",
              "    }\n",
              "\n",
              "    .dataframe tbody tr th {\n",
              "        vertical-align: top;\n",
              "    }\n",
              "\n",
              "    .dataframe thead th {\n",
              "        text-align: right;\n",
              "    }\n",
              "</style>\n",
              "<table border=\"1\" class=\"dataframe\">\n",
              "  <thead>\n",
              "    <tr style=\"text-align: right;\">\n",
              "      <th></th>\n",
              "      <th>Date</th>\n",
              "      <th>Month</th>\n",
              "      <th>Year</th>\n",
              "      <th>Holidays_Count</th>\n",
              "      <th>Days</th>\n",
              "      <th>PM2.5</th>\n",
              "      <th>PM10</th>\n",
              "      <th>NO2</th>\n",
              "      <th>SO2</th>\n",
              "      <th>CO</th>\n",
              "      <th>Ozone</th>\n",
              "      <th>AQI</th>\n",
              "    </tr>\n",
              "  </thead>\n",
              "  <tbody>\n",
              "    <tr>\n",
              "      <th>0</th>\n",
              "      <td>1</td>\n",
              "      <td>1</td>\n",
              "      <td>2021</td>\n",
              "      <td>0</td>\n",
              "      <td>5</td>\n",
              "      <td>408.80</td>\n",
              "      <td>442.42</td>\n",
              "      <td>160.61</td>\n",
              "      <td>12.95</td>\n",
              "      <td>2.77</td>\n",
              "      <td>43.19</td>\n",
              "      <td>462</td>\n",
              "    </tr>\n",
              "    <tr>\n",
              "      <th>1</th>\n",
              "      <td>2</td>\n",
              "      <td>1</td>\n",
              "      <td>2021</td>\n",
              "      <td>0</td>\n",
              "      <td>6</td>\n",
              "      <td>404.04</td>\n",
              "      <td>561.95</td>\n",
              "      <td>52.85</td>\n",
              "      <td>5.18</td>\n",
              "      <td>2.60</td>\n",
              "      <td>16.43</td>\n",
              "      <td>482</td>\n",
              "    </tr>\n",
              "    <tr>\n",
              "      <th>2</th>\n",
              "      <td>3</td>\n",
              "      <td>1</td>\n",
              "      <td>2021</td>\n",
              "      <td>1</td>\n",
              "      <td>7</td>\n",
              "      <td>225.07</td>\n",
              "      <td>239.04</td>\n",
              "      <td>170.95</td>\n",
              "      <td>10.93</td>\n",
              "      <td>1.40</td>\n",
              "      <td>44.29</td>\n",
              "      <td>263</td>\n",
              "    </tr>\n",
              "    <tr>\n",
              "      <th>3</th>\n",
              "      <td>4</td>\n",
              "      <td>1</td>\n",
              "      <td>2021</td>\n",
              "      <td>0</td>\n",
              "      <td>1</td>\n",
              "      <td>89.55</td>\n",
              "      <td>132.08</td>\n",
              "      <td>153.98</td>\n",
              "      <td>10.42</td>\n",
              "      <td>1.01</td>\n",
              "      <td>49.19</td>\n",
              "      <td>207</td>\n",
              "    </tr>\n",
              "    <tr>\n",
              "      <th>4</th>\n",
              "      <td>5</td>\n",
              "      <td>1</td>\n",
              "      <td>2021</td>\n",
              "      <td>0</td>\n",
              "      <td>2</td>\n",
              "      <td>54.06</td>\n",
              "      <td>55.54</td>\n",
              "      <td>122.66</td>\n",
              "      <td>9.70</td>\n",
              "      <td>0.64</td>\n",
              "      <td>48.88</td>\n",
              "      <td>149</td>\n",
              "    </tr>\n",
              "  </tbody>\n",
              "</table>\n",
              "</div>\n",
              "    <div class=\"colab-df-buttons\">\n",
              "\n",
              "  <div class=\"colab-df-container\">\n",
              "    <button class=\"colab-df-convert\" onclick=\"convertToInteractive('df-2ed8153e-f086-4a88-b4c5-663806a11718')\"\n",
              "            title=\"Convert this dataframe to an interactive table.\"\n",
              "            style=\"display:none;\">\n",
              "\n",
              "  <svg xmlns=\"http://www.w3.org/2000/svg\" height=\"24px\" viewBox=\"0 -960 960 960\">\n",
              "    <path d=\"M120-120v-720h720v720H120Zm60-500h600v-160H180v160Zm220 220h160v-160H400v160Zm0 220h160v-160H400v160ZM180-400h160v-160H180v160Zm440 0h160v-160H620v160ZM180-180h160v-160H180v160Zm440 0h160v-160H620v160Z\"/>\n",
              "  </svg>\n",
              "    </button>\n",
              "\n",
              "  <style>\n",
              "    .colab-df-container {\n",
              "      display:flex;\n",
              "      gap: 12px;\n",
              "    }\n",
              "\n",
              "    .colab-df-convert {\n",
              "      background-color: #E8F0FE;\n",
              "      border: none;\n",
              "      border-radius: 50%;\n",
              "      cursor: pointer;\n",
              "      display: none;\n",
              "      fill: #1967D2;\n",
              "      height: 32px;\n",
              "      padding: 0 0 0 0;\n",
              "      width: 32px;\n",
              "    }\n",
              "\n",
              "    .colab-df-convert:hover {\n",
              "      background-color: #E2EBFA;\n",
              "      box-shadow: 0px 1px 2px rgba(60, 64, 67, 0.3), 0px 1px 3px 1px rgba(60, 64, 67, 0.15);\n",
              "      fill: #174EA6;\n",
              "    }\n",
              "\n",
              "    .colab-df-buttons div {\n",
              "      margin-bottom: 4px;\n",
              "    }\n",
              "\n",
              "    [theme=dark] .colab-df-convert {\n",
              "      background-color: #3B4455;\n",
              "      fill: #D2E3FC;\n",
              "    }\n",
              "\n",
              "    [theme=dark] .colab-df-convert:hover {\n",
              "      background-color: #434B5C;\n",
              "      box-shadow: 0px 1px 3px 1px rgba(0, 0, 0, 0.15);\n",
              "      filter: drop-shadow(0px 1px 2px rgba(0, 0, 0, 0.3));\n",
              "      fill: #FFFFFF;\n",
              "    }\n",
              "  </style>\n",
              "\n",
              "    <script>\n",
              "      const buttonEl =\n",
              "        document.querySelector('#df-2ed8153e-f086-4a88-b4c5-663806a11718 button.colab-df-convert');\n",
              "      buttonEl.style.display =\n",
              "        google.colab.kernel.accessAllowed ? 'block' : 'none';\n",
              "\n",
              "      async function convertToInteractive(key) {\n",
              "        const element = document.querySelector('#df-2ed8153e-f086-4a88-b4c5-663806a11718');\n",
              "        const dataTable =\n",
              "          await google.colab.kernel.invokeFunction('convertToInteractive',\n",
              "                                                    [key], {});\n",
              "        if (!dataTable) return;\n",
              "\n",
              "        const docLinkHtml = 'Like what you see? Visit the ' +\n",
              "          '<a target=\"_blank\" href=https://colab.research.google.com/notebooks/data_table.ipynb>data table notebook</a>'\n",
              "          + ' to learn more about interactive tables.';\n",
              "        element.innerHTML = '';\n",
              "        dataTable['output_type'] = 'display_data';\n",
              "        await google.colab.output.renderOutput(dataTable, element);\n",
              "        const docLink = document.createElement('div');\n",
              "        docLink.innerHTML = docLinkHtml;\n",
              "        element.appendChild(docLink);\n",
              "      }\n",
              "    </script>\n",
              "  </div>\n",
              "\n",
              "\n",
              "    <div id=\"df-286b5ce1-f0c8-4faf-85fa-29354853a978\">\n",
              "      <button class=\"colab-df-quickchart\" onclick=\"quickchart('df-286b5ce1-f0c8-4faf-85fa-29354853a978')\"\n",
              "                title=\"Suggest charts\"\n",
              "                style=\"display:none;\">\n",
              "\n",
              "<svg xmlns=\"http://www.w3.org/2000/svg\" height=\"24px\"viewBox=\"0 0 24 24\"\n",
              "     width=\"24px\">\n",
              "    <g>\n",
              "        <path d=\"M19 3H5c-1.1 0-2 .9-2 2v14c0 1.1.9 2 2 2h14c1.1 0 2-.9 2-2V5c0-1.1-.9-2-2-2zM9 17H7v-7h2v7zm4 0h-2V7h2v10zm4 0h-2v-4h2v4z\"/>\n",
              "    </g>\n",
              "</svg>\n",
              "      </button>\n",
              "\n",
              "<style>\n",
              "  .colab-df-quickchart {\n",
              "      --bg-color: #E8F0FE;\n",
              "      --fill-color: #1967D2;\n",
              "      --hover-bg-color: #E2EBFA;\n",
              "      --hover-fill-color: #174EA6;\n",
              "      --disabled-fill-color: #AAA;\n",
              "      --disabled-bg-color: #DDD;\n",
              "  }\n",
              "\n",
              "  [theme=dark] .colab-df-quickchart {\n",
              "      --bg-color: #3B4455;\n",
              "      --fill-color: #D2E3FC;\n",
              "      --hover-bg-color: #434B5C;\n",
              "      --hover-fill-color: #FFFFFF;\n",
              "      --disabled-bg-color: #3B4455;\n",
              "      --disabled-fill-color: #666;\n",
              "  }\n",
              "\n",
              "  .colab-df-quickchart {\n",
              "    background-color: var(--bg-color);\n",
              "    border: none;\n",
              "    border-radius: 50%;\n",
              "    cursor: pointer;\n",
              "    display: none;\n",
              "    fill: var(--fill-color);\n",
              "    height: 32px;\n",
              "    padding: 0;\n",
              "    width: 32px;\n",
              "  }\n",
              "\n",
              "  .colab-df-quickchart:hover {\n",
              "    background-color: var(--hover-bg-color);\n",
              "    box-shadow: 0 1px 2px rgba(60, 64, 67, 0.3), 0 1px 3px 1px rgba(60, 64, 67, 0.15);\n",
              "    fill: var(--button-hover-fill-color);\n",
              "  }\n",
              "\n",
              "  .colab-df-quickchart-complete:disabled,\n",
              "  .colab-df-quickchart-complete:disabled:hover {\n",
              "    background-color: var(--disabled-bg-color);\n",
              "    fill: var(--disabled-fill-color);\n",
              "    box-shadow: none;\n",
              "  }\n",
              "\n",
              "  .colab-df-spinner {\n",
              "    border: 2px solid var(--fill-color);\n",
              "    border-color: transparent;\n",
              "    border-bottom-color: var(--fill-color);\n",
              "    animation:\n",
              "      spin 1s steps(1) infinite;\n",
              "  }\n",
              "\n",
              "  @keyframes spin {\n",
              "    0% {\n",
              "      border-color: transparent;\n",
              "      border-bottom-color: var(--fill-color);\n",
              "      border-left-color: var(--fill-color);\n",
              "    }\n",
              "    20% {\n",
              "      border-color: transparent;\n",
              "      border-left-color: var(--fill-color);\n",
              "      border-top-color: var(--fill-color);\n",
              "    }\n",
              "    30% {\n",
              "      border-color: transparent;\n",
              "      border-left-color: var(--fill-color);\n",
              "      border-top-color: var(--fill-color);\n",
              "      border-right-color: var(--fill-color);\n",
              "    }\n",
              "    40% {\n",
              "      border-color: transparent;\n",
              "      border-right-color: var(--fill-color);\n",
              "      border-top-color: var(--fill-color);\n",
              "    }\n",
              "    60% {\n",
              "      border-color: transparent;\n",
              "      border-right-color: var(--fill-color);\n",
              "    }\n",
              "    80% {\n",
              "      border-color: transparent;\n",
              "      border-right-color: var(--fill-color);\n",
              "      border-bottom-color: var(--fill-color);\n",
              "    }\n",
              "    90% {\n",
              "      border-color: transparent;\n",
              "      border-bottom-color: var(--fill-color);\n",
              "    }\n",
              "  }\n",
              "</style>\n",
              "\n",
              "      <script>\n",
              "        async function quickchart(key) {\n",
              "          const quickchartButtonEl =\n",
              "            document.querySelector('#' + key + ' button');\n",
              "          quickchartButtonEl.disabled = true;  // To prevent multiple clicks.\n",
              "          quickchartButtonEl.classList.add('colab-df-spinner');\n",
              "          try {\n",
              "            const charts = await google.colab.kernel.invokeFunction(\n",
              "                'suggestCharts', [key], {});\n",
              "          } catch (error) {\n",
              "            console.error('Error during call to suggestCharts:', error);\n",
              "          }\n",
              "          quickchartButtonEl.classList.remove('colab-df-spinner');\n",
              "          quickchartButtonEl.classList.add('colab-df-quickchart-complete');\n",
              "        }\n",
              "        (() => {\n",
              "          let quickchartButtonEl =\n",
              "            document.querySelector('#df-286b5ce1-f0c8-4faf-85fa-29354853a978 button');\n",
              "          quickchartButtonEl.style.display =\n",
              "            google.colab.kernel.accessAllowed ? 'block' : 'none';\n",
              "        })();\n",
              "      </script>\n",
              "    </div>\n",
              "\n",
              "    </div>\n",
              "  </div>\n"
            ],
            "application/vnd.google.colaboratory.intrinsic+json": {
              "type": "dataframe",
              "variable_name": "df_raw",
              "summary": "{\n  \"name\": \"df_raw\",\n  \"rows\": 1461,\n  \"fields\": [\n    {\n      \"column\": \"Date\",\n      \"properties\": {\n        \"dtype\": \"number\",\n        \"std\": 8,\n        \"min\": 1,\n        \"max\": 31,\n        \"num_unique_values\": 31,\n        \"samples\": [\n          28,\n          16,\n          24\n        ],\n        \"semantic_type\": \"\",\n        \"description\": \"\"\n      }\n    },\n    {\n      \"column\": \"Month\",\n      \"properties\": {\n        \"dtype\": \"number\",\n        \"std\": 3,\n        \"min\": 1,\n        \"max\": 12,\n        \"num_unique_values\": 12,\n        \"samples\": [\n          11,\n          10,\n          1\n        ],\n        \"semantic_type\": \"\",\n        \"description\": \"\"\n      }\n    },\n    {\n      \"column\": \"Year\",\n      \"properties\": {\n        \"dtype\": \"number\",\n        \"std\": 1,\n        \"min\": 2021,\n        \"max\": 2024,\n        \"num_unique_values\": 4,\n        \"samples\": [\n          2022,\n          2024,\n          2021\n        ],\n        \"semantic_type\": \"\",\n        \"description\": \"\"\n      }\n    },\n    {\n      \"column\": \"Holidays_Count\",\n      \"properties\": {\n        \"dtype\": \"number\",\n        \"std\": 0,\n        \"min\": 0,\n        \"max\": 1,\n        \"num_unique_values\": 2,\n        \"samples\": [\n          1,\n          0\n        ],\n        \"semantic_type\": \"\",\n        \"description\": \"\"\n      }\n    },\n    {\n      \"column\": \"Days\",\n      \"properties\": {\n        \"dtype\": \"number\",\n        \"std\": 2,\n        \"min\": 1,\n        \"max\": 7,\n        \"num_unique_values\": 7,\n        \"samples\": [\n          5,\n          6\n        ],\n        \"semantic_type\": \"\",\n        \"description\": \"\"\n      }\n    },\n    {\n      \"column\": \"PM2.5\",\n      \"properties\": {\n        \"dtype\": \"number\",\n        \"std\": 71.65057932837107,\n        \"min\": 0.05,\n        \"max\": 1000.0,\n        \"num_unique_values\": 1391,\n        \"samples\": [\n          15.37,\n          37.02\n        ],\n        \"semantic_type\": \"\",\n        \"description\": \"\"\n      }\n    },\n    {\n      \"column\": \"PM10\",\n      \"properties\": {\n        \"dtype\": \"number\",\n        \"std\": 129.2977338198934,\n        \"min\": 9.69,\n        \"max\": 1000.0,\n        \"num_unique_values\": 1436,\n        \"samples\": [\n          49.78,\n          128.57\n        ],\n        \"semantic_type\": \"\",\n        \"description\": \"\"\n      }\n    },\n    {\n      \"column\": \"NO2\",\n      \"properties\": {\n        \"dtype\": \"number\",\n        \"std\": 35.22532675131559,\n        \"min\": 2.16,\n        \"max\": 433.98,\n        \"num_unique_values\": 1308,\n        \"samples\": [\n          26.41,\n          40.37\n        ],\n        \"semantic_type\": \"\",\n        \"description\": \"\"\n      }\n    },\n    {\n      \"column\": \"SO2\",\n      \"properties\": {\n        \"dtype\": \"number\",\n        \"std\": 16.543658718011766,\n        \"min\": 1.21,\n        \"max\": 113.4,\n        \"num_unique_values\": 1180,\n        \"samples\": [\n          7.75,\n          10.91\n        ],\n        \"semantic_type\": \"\",\n        \"description\": \"\"\n      }\n    },\n    {\n      \"column\": \"CO\",\n      \"properties\": {\n        \"dtype\": \"number\",\n        \"std\": 0.6083051429767428,\n        \"min\": 0.27,\n        \"max\": 4.7,\n        \"num_unique_values\": 240,\n        \"samples\": [\n          1.23,\n          0.73\n        ],\n        \"semantic_type\": \"\",\n        \"description\": \"\"\n      }\n    },\n    {\n      \"column\": \"Ozone\",\n      \"properties\": {\n        \"dtype\": \"number\",\n        \"std\": 18.951204118980968,\n        \"min\": 2.7,\n        \"max\": 115.87,\n        \"num_unique_values\": 1264,\n        \"samples\": [\n          31.67,\n          32.62\n        ],\n        \"semantic_type\": \"\",\n        \"description\": \"\"\n      }\n    },\n    {\n      \"column\": \"AQI\",\n      \"properties\": {\n        \"dtype\": \"number\",\n        \"std\": 107,\n        \"min\": 19,\n        \"max\": 500,\n        \"num_unique_values\": 403,\n        \"samples\": [\n          264,\n          228\n        ],\n        \"semantic_type\": \"\",\n        \"description\": \"\"\n      }\n    }\n  ]\n}"
            }
          },
          "metadata": {},
          "execution_count": 23
        }
      ]
    },
    {
      "cell_type": "markdown",
      "source": [
        "# Cell 2: Data types and missing value analysis"
      ],
      "metadata": {
        "id": "h-HNW9Ni9XZk"
      }
    },
    {
      "cell_type": "code",
      "source": [
        "# 1. Dataset Overview\n",
        "print(f\"\\n1️⃣ DATASET OVERVIEW:\")\n",
        "print(f\"   • Shape: {df_raw.shape[0]:,} rows × {df_raw.shape[1]} columns\")\n",
        "print(f\"   • Memory usage: {df_raw.memory_usage(deep=True).sum() / 1024**2:.2f} MB\")\n",
        "print(f\"   • Date range: Day {df_raw['Date'].min()} to Day {df_raw['Date'].max()}\")\n",
        "print(f\"   • Years covered: {df_raw['Year'].unique()}\")"
      ],
      "metadata": {
        "colab": {
          "base_uri": "https://localhost:8080/"
        },
        "id": "-2m7umcj9YPE",
        "outputId": "4bc9a676-8ac1-44d0-ed03-d7f9b166e225"
      },
      "execution_count": 24,
      "outputs": [
        {
          "output_type": "stream",
          "name": "stdout",
          "text": [
            "\n",
            "1️⃣ DATASET OVERVIEW:\n",
            "   • Shape: 1,461 rows × 12 columns\n",
            "   • Memory usage: 0.13 MB\n",
            "   • Date range: Day 1 to Day 31\n",
            "   • Years covered: [2021 2022 2023 2024]\n"
          ]
        }
      ]
    },
    {
      "cell_type": "code",
      "source": [
        "# 2. Data Types Analysis\n",
        "print(f\"\\n2️⃣ DATA TYPES:\")\n",
        "print(\"-\" * 40)\n",
        "dtype_summary = df_raw.dtypes.to_frame('Data_Type')\n",
        "dtype_summary['Count'] = df_raw.count()\n",
        "dtype_summary['Missing'] = df_raw.isnull().sum()\n",
        "dtype_summary['Missing_%'] = (df_raw.isnull().sum() / len(df_raw) * 100).round(2)\n",
        "dtype_summary['Unique_Values'] = df_raw.nunique()\n",
        "\n",
        "# Add sample values for better understanding\n",
        "dtype_summary['Sample_Values'] = ''\n",
        "for col in df_raw.columns:\n",
        "    if df_raw[col].dtype in ['object', 'category']:\n",
        "        sample_vals = df_raw[col].dropna().unique()[:3]\n",
        "        dtype_summary.loc[col, 'Sample_Values'] = str(list(sample_vals))\n",
        "    else:\n",
        "        sample_vals = df_raw[col].dropna().iloc[:3].values\n",
        "        dtype_summary.loc[col, 'Sample_Values'] = str(list(sample_vals))\n",
        "\n",
        "print(dtype_summary.to_string())"
      ],
      "metadata": {
        "colab": {
          "base_uri": "https://localhost:8080/"
        },
        "id": "5aH9XMdD9o0S",
        "outputId": "6ae404d8-541a-44c6-962b-0febcf77f960"
      },
      "execution_count": 30,
      "outputs": [
        {
          "output_type": "stream",
          "name": "stdout",
          "text": [
            "\n",
            "2️⃣ DATA TYPES:\n",
            "----------------------------------------\n",
            "               Data_Type  Count  Missing  Missing_%  Unique_Values                                                 Sample_Values\n",
            "Date               int64   1461        0        0.0             31                       [np.int64(1), np.int64(2), np.int64(3)]\n",
            "Month              int64   1461        0        0.0             12                       [np.int64(1), np.int64(1), np.int64(1)]\n",
            "Year               int64   1461        0        0.0              4              [np.int64(2021), np.int64(2021), np.int64(2021)]\n",
            "Holidays_Count     int64   1461        0        0.0              2                       [np.int64(0), np.int64(0), np.int64(1)]\n",
            "Days               int64   1461        0        0.0              7                       [np.int64(5), np.int64(6), np.int64(7)]\n",
            "PM2.5            float64   1461        0        0.0           1391   [np.float64(408.8), np.float64(404.04), np.float64(225.07)]\n",
            "PM10             float64   1461        0        0.0           1436  [np.float64(442.42), np.float64(561.95), np.float64(239.04)]\n",
            "NO2              float64   1461        0        0.0           1308   [np.float64(160.61), np.float64(52.85), np.float64(170.95)]\n",
            "SO2              float64   1461        0        0.0           1180      [np.float64(12.95), np.float64(5.18), np.float64(10.93)]\n",
            "CO               float64   1461        0        0.0            240          [np.float64(2.77), np.float64(2.6), np.float64(1.4)]\n",
            "Ozone            float64   1461        0        0.0           1264     [np.float64(43.19), np.float64(16.43), np.float64(44.29)]\n",
            "AQI                int64   1461        0        0.0            403                 [np.int64(462), np.int64(482), np.int64(263)]\n"
          ]
        }
      ]
    },
    {
      "cell_type": "code",
      "source": [
        "# 3. Missing Values Summary\n",
        "print(f\"\\n3️⃣ MISSING VALUES SUMMARY:\")\n",
        "print(\"-\" * 40)\n",
        "missing_summary = df_raw.isnull().sum().sort_values(ascending=False)\n",
        "missing_pct = (missing_summary / len(df_raw) * 100).round(2)\n",
        "\n",
        "if missing_summary.sum() > 0:\n",
        "    missing_df = pd.DataFrame({\n",
        "        'Missing_Count': missing_summary,\n",
        "        'Missing_Percentage': missing_pct\n",
        "    })\n",
        "    missing_df = missing_df[missing_df['Missing_Count'] > 0]\n",
        "    print(missing_df)\n",
        "    print(f\"\\n⚠️ Total missing values: {missing_summary.sum():,}\")\n",
        "else:\n",
        "    print(\"✅ No missing values found in the dataset!\")"
      ],
      "metadata": {
        "colab": {
          "base_uri": "https://localhost:8080/"
        },
        "id": "vD7_afPD99qY",
        "outputId": "e701b12e-f3ed-4618-c09c-f0d640c2b1cf"
      },
      "execution_count": 27,
      "outputs": [
        {
          "output_type": "stream",
          "name": "stdout",
          "text": [
            "\n",
            "3️⃣ MISSING VALUES SUMMARY:\n",
            "----------------------------------------\n",
            "✅ No missing values found in the dataset!\n"
          ]
        }
      ]
    },
    {
      "cell_type": "code",
      "source": [
        "# 4. Duplicate Rows Check\n",
        "duplicates = df_raw.duplicated().sum()\n",
        "print(f\"\\n4️⃣ DUPLICATE ROWS:\")\n",
        "print(f\"   • Duplicate rows: {duplicates:,}\")\n",
        "if duplicates > 0:\n",
        "    print(\"⚠️ Consider removing duplicates in data cleaning step\")\n",
        "else:\n",
        "    print(\"✅ No duplicate rows found\")"
      ],
      "metadata": {
        "colab": {
          "base_uri": "https://localhost:8080/"
        },
        "id": "vff99CNy-Huy",
        "outputId": "aa0a3f6f-1dff-4577-c458-05fa711a4e88"
      },
      "execution_count": 28,
      "outputs": [
        {
          "output_type": "stream",
          "name": "stdout",
          "text": [
            "\n",
            "4️⃣ DUPLICATE ROWS:\n",
            "   • Duplicate rows: 0\n",
            "✅ No duplicate rows found\n"
          ]
        }
      ]
    },
    {
      "cell_type": "markdown",
      "source": [
        "# Cell 3: Statistical summary and categorical field analysis"
      ],
      "metadata": {
        "id": "O7BJAT68_qmb"
      }
    },
    {
      "cell_type": "code",
      "source": [
        "# Separate numerical and categorical columns\n",
        "numerical_cols = df_raw.select_dtypes(include=[np.number]).columns.tolist()\n",
        "categorical_cols = ['Month', 'Year', 'Holidays_Count', 'Days']  # These are categorical despite being numeric\n",
        "pure_numerical_cols = [col for col in numerical_cols if col not in categorical_cols]\n",
        "\n",
        "print(\"📊 NUMERICAL VARIABLES STATISTICS:\")\n",
        "print(\"(Pollution concentrations and AQI values)\")\n",
        "stats_df = df_raw[pure_numerical_cols + ['AQI']].describe()\n",
        "print(stats_df.round(2).to_string())"
      ],
      "metadata": {
        "colab": {
          "base_uri": "https://localhost:8080/"
        },
        "id": "1BocmYSY_rZ_",
        "outputId": "bd0970af-2187-4d9e-baf5-58f101b3e801"
      },
      "execution_count": 32,
      "outputs": [
        {
          "output_type": "stream",
          "name": "stdout",
          "text": [
            "📊 NUMERICAL VARIABLES STATISTICS:\n",
            "(Pollution concentrations and AQI values)\n",
            "          Date    PM2.5     PM10      NO2      SO2       CO    Ozone      AQI      AQI\n",
            "count  1461.00  1461.00  1461.00  1461.00  1461.00  1461.00  1461.00  1461.00  1461.00\n",
            "mean     15.73    90.77   218.22    37.18    20.10     1.03    36.34   202.21   202.21\n",
            "std       8.80    71.65   129.30    35.23    16.54     0.61    18.95   107.80   107.80\n",
            "min       1.00     0.05     9.69     2.16     1.21     0.27     2.70    19.00    19.00\n",
            "25%       8.00    41.28   115.11    17.28     7.71     0.61    24.10   108.00   108.00\n",
            "50%      16.00    72.06   199.80    30.49    15.43     0.85    32.47   189.00   189.00\n",
            "75%      23.00   118.50   297.75    45.01    26.62     1.24    45.73   284.00   284.00\n",
            "max      31.00  1000.00  1000.00   433.98   113.40     4.70   115.87   500.00   500.00\n"
          ]
        }
      ]
    },
    {
      "cell_type": "code",
      "source": [
        "# Date field analysis\n",
        "print(\"📅 DATE FIELD:\")\n",
        "print(f\"   • Date range: Days 1-31 (represents days of month)\")\n",
        "print(f\"   • Unique dates: {df_raw['Date'].nunique()}\")"
      ],
      "metadata": {
        "colab": {
          "base_uri": "https://localhost:8080/"
        },
        "id": "mFVvA3BAAP9X",
        "outputId": "efea70e4-eba4-4f95-a952-a0830ef01e5d"
      },
      "execution_count": 33,
      "outputs": [
        {
          "output_type": "stream",
          "name": "stdout",
          "text": [
            "📅 DATE FIELD:\n",
            "   • Date range: Days 1-31 (represents days of month)\n",
            "   • Unique dates: 31\n"
          ]
        }
      ]
    },
    {
      "cell_type": "code",
      "source": [
        "# Month distribution\n",
        "print(f\"\\n📅 MONTH DISTRIBUTION:\")\n",
        "month_counts = df_raw['Month'].value_counts().sort_index()\n",
        "month_names = ['Jan', 'Feb', 'Mar', 'Apr', 'May', 'Jun',\n",
        "               'Jul', 'Aug', 'Sep', 'Oct', 'Nov', 'Dec']\n",
        "for month, count in month_counts.items():\n",
        "    pct = (count / len(df_raw) * 100)\n",
        "    print(f\"   • {month_names[month-1]:3s} ({month:2d}): {count:3d} records ({pct:5.1f}%)\")"
      ],
      "metadata": {
        "colab": {
          "base_uri": "https://localhost:8080/"
        },
        "id": "DhshI-0vAVxO",
        "outputId": "f141274f-48da-46da-d288-8fcf9f266210"
      },
      "execution_count": 34,
      "outputs": [
        {
          "output_type": "stream",
          "name": "stdout",
          "text": [
            "\n",
            "📅 MONTH DISTRIBUTION:\n",
            "   • Jan ( 1): 124 records (  8.5%)\n",
            "   • Feb ( 2): 113 records (  7.7%)\n",
            "   • Mar ( 3): 124 records (  8.5%)\n",
            "   • Apr ( 4): 120 records (  8.2%)\n",
            "   • May ( 5): 124 records (  8.5%)\n",
            "   • Jun ( 6): 120 records (  8.2%)\n",
            "   • Jul ( 7): 124 records (  8.5%)\n",
            "   • Aug ( 8): 124 records (  8.5%)\n",
            "   • Sep ( 9): 120 records (  8.2%)\n",
            "   • Oct (10): 124 records (  8.5%)\n",
            "   • Nov (11): 120 records (  8.2%)\n",
            "   • Dec (12): 124 records (  8.5%)\n"
          ]
        }
      ]
    },
    {
      "cell_type": "code",
      "source": [
        "# Year distribution\n",
        "print(f\"\\n📅 YEAR DISTRIBUTION:\")\n",
        "year_counts = df_raw['Year'].value_counts().sort_index()\n",
        "for year, count in year_counts.items():\n",
        "    pct = (count / len(df_raw) * 100)\n",
        "    print(f\"   • {year}: {count:3d} records ({pct:5.1f}%)\")\n"
      ],
      "metadata": {
        "colab": {
          "base_uri": "https://localhost:8080/"
        },
        "id": "Qd7sDH_FAaNk",
        "outputId": "8386f731-6de7-43f2-e620-257e405a187e"
      },
      "execution_count": 35,
      "outputs": [
        {
          "output_type": "stream",
          "name": "stdout",
          "text": [
            "\n",
            "📅 YEAR DISTRIBUTION:\n",
            "   • 2021: 365 records ( 25.0%)\n",
            "   • 2022: 365 records ( 25.0%)\n",
            "   • 2023: 365 records ( 25.0%)\n",
            "   • 2024: 366 records ( 25.1%)\n"
          ]
        }
      ]
    },
    {
      "cell_type": "code",
      "source": [
        "# Day of week distribution\n",
        "print(f\"\\n📅 DAY OF WEEK DISTRIBUTION:\")\n",
        "day_names = ['Monday', 'Tuesday', 'Wednesday', 'Thursday', 'Friday', 'Saturday', 'Sunday']\n",
        "days_counts = df_raw['Days'].value_counts().sort_index()\n",
        "for day_num, count in days_counts.items():\n",
        "    pct = (count / len(df_raw) * 100)\n",
        "    day_name = day_names[day_num-1] if day_num <= 7 else f\"Day_{day_num}\"\n",
        "    print(f\"   • {day_name:9s} ({day_num}): {count:3d} records ({pct:5.1f}%)\")"
      ],
      "metadata": {
        "colab": {
          "base_uri": "https://localhost:8080/"
        },
        "id": "6dsX3MvRAd-I",
        "outputId": "2457ac9e-755b-4feb-d8f4-671e18c60f34"
      },
      "execution_count": 36,
      "outputs": [
        {
          "output_type": "stream",
          "name": "stdout",
          "text": [
            "\n",
            "📅 DAY OF WEEK DISTRIBUTION:\n",
            "   • Monday    (1): 209 records ( 14.3%)\n",
            "   • Tuesday   (2): 209 records ( 14.3%)\n",
            "   • Wednesday (3): 208 records ( 14.2%)\n",
            "   • Thursday  (4): 208 records ( 14.2%)\n",
            "   • Friday    (5): 209 records ( 14.3%)\n",
            "   • Saturday  (6): 209 records ( 14.3%)\n",
            "   • Sunday    (7): 209 records ( 14.3%)\n"
          ]
        }
      ]
    },
    {
      "cell_type": "code",
      "source": [
        "# Holidays analysis\n",
        "print(f\"\\n🎉 HOLIDAYS ANALYSIS:\")\n",
        "holiday_counts = df_raw['Holidays_Count'].value_counts().sort_index()\n",
        "for holiday, count in holiday_counts.items():\n",
        "    pct = (count / len(df_raw) * 100)\n",
        "    holiday_label = \"No Holiday\" if holiday == 0 else \"Holiday\"\n",
        "    print(f\"   • {holiday_label}: {count:4d} records ({pct:5.1f}%)\")"
      ],
      "metadata": {
        "colab": {
          "base_uri": "https://localhost:8080/"
        },
        "id": "hF6vdu-tAjwj",
        "outputId": "6f4be6e8-f23a-412c-9914-b40e288e2473"
      },
      "execution_count": 37,
      "outputs": [
        {
          "output_type": "stream",
          "name": "stdout",
          "text": [
            "\n",
            "🎉 HOLIDAYS ANALYSIS:\n",
            "   • No Holiday: 1184 records ( 81.0%)\n",
            "   • Holiday:  277 records ( 19.0%)\n"
          ]
        }
      ]
    },
    {
      "cell_type": "markdown",
      "source": [
        "# Cell 4: Data quality insights and target variable analysis"
      ],
      "metadata": {
        "id": "WWJ2UXBqBN_J"
      }
    },
    {
      "cell_type": "code",
      "source": [
        "# Check for extreme values/outliers\n",
        "print(\"🔍 EXTREME VALUES DETECTION:\")\n",
        "\n",
        "pollution_vars = ['PM2.5', 'PM10', 'NO2', 'SO2', 'CO', 'Ozone', 'AQI']\n",
        "for var in pollution_vars:\n",
        "    Q1 = df_raw[var].quantile(0.25)\n",
        "    Q3 = df_raw[var].quantile(0.75)\n",
        "    IQR = Q3 - Q1\n",
        "    lower_bound = Q1 - 1.5 * IQR\n",
        "    upper_bound = Q3 + 1.5 * IQR\n",
        "\n",
        "    outliers = df_raw[(df_raw[var] < lower_bound) | (df_raw[var] > upper_bound)]\n",
        "    outlier_pct = (len(outliers) / len(df_raw) * 100)\n",
        "\n",
        "    print(f\"   • {var:6s}: {len(outliers):3d} outliers ({outlier_pct:4.1f}%) | Range: [{df_raw[var].min():6.1f}, {df_raw[var].max():6.1f}]\")"
      ],
      "metadata": {
        "colab": {
          "base_uri": "https://localhost:8080/"
        },
        "id": "GXOcZJHGBR0O",
        "outputId": "f44439c7-5195-4d22-f69f-93b8eb27c48b"
      },
      "execution_count": 38,
      "outputs": [
        {
          "output_type": "stream",
          "name": "stdout",
          "text": [
            "🔍 EXTREME VALUES DETECTION:\n",
            "   • PM2.5 :  65 outliers ( 4.4%) | Range: [   0.1, 1000.0]\n",
            "   • PM10  :  19 outliers ( 1.3%) | Range: [   9.7, 1000.0]\n",
            "   • NO2   :  85 outliers ( 5.8%) | Range: [   2.2,  434.0]\n",
            "   • SO2   :  83 outliers ( 5.7%) | Range: [   1.2,  113.4]\n",
            "   • CO    :  80 outliers ( 5.5%) | Range: [   0.3,    4.7]\n",
            "   • Ozone :  57 outliers ( 3.9%) | Range: [   2.7,  115.9]\n",
            "   • AQI   :   0 outliers ( 0.0%) | Range: [  19.0,  500.0]\n"
          ]
        }
      ]
    },
    {
      "cell_type": "code",
      "source": [
        "# Check for suspicious round numbers or repeated values\n",
        "print(f\"\\n🎯 SUSPICIOUS PATTERNS:\")\n",
        "for var in pollution_vars:\n",
        "    # Check for values at exactly 1000 (possible data cap)\n",
        "    thousand_values = (df_raw[var] == 1000).sum()\n",
        "    if thousand_values > 0:\n",
        "        print(f\"   • {var}: {thousand_values} values at exactly 1000 (possible data capping)\")\n",
        "\n",
        "    # Check for values at exactly 500 (AQI max)\n",
        "    if var == 'AQI':\n",
        "        five_hundred_values = (df_raw[var] == 500).sum()\n",
        "        if five_hundred_values > 0:\n",
        "            print(f\"   • {var}: {five_hundred_values} values at exactly 500 (AQI maximum)\")"
      ],
      "metadata": {
        "colab": {
          "base_uri": "https://localhost:8080/"
        },
        "id": "gx8EymwSBams",
        "outputId": "29fed787-5f28-4ce8-9c7f-77e5f932e014"
      },
      "execution_count": 40,
      "outputs": [
        {
          "output_type": "stream",
          "name": "stdout",
          "text": [
            "\n",
            "🎯 SUSPICIOUS PATTERNS:\n",
            "   • PM2.5: 1 values at exactly 1000 (possible data capping)\n",
            "   • PM10: 1 values at exactly 1000 (possible data capping)\n",
            "   • AQI: 2 values at exactly 500 (AQI maximum)\n"
          ]
        }
      ]
    },
    {
      "cell_type": "code",
      "source": [
        "# AQI categories according to Indian standards\n",
        "def categorize_aqi(aqi):\n",
        "    if aqi <= 50:\n",
        "        return 'Good'\n",
        "    elif aqi <= 100:\n",
        "        return 'Satisfactory'\n",
        "    elif aqi <= 200:\n",
        "        return 'Moderate'\n",
        "    elif aqi <= 300:\n",
        "        return 'Poor'\n",
        "    elif aqi <= 400:\n",
        "        return 'Very Poor'\n",
        "    else:\n",
        "        return 'Severe'\n"
      ],
      "metadata": {
        "id": "08LoKtujBlVV"
      },
      "execution_count": 41,
      "outputs": []
    },
    {
      "cell_type": "code",
      "source": [
        "# Add AQI categories\n",
        "df_raw['AQI_Category'] = df_raw['AQI'].apply(categorize_aqi)\n",
        "\n",
        "print(\"📊 AQI DISTRIBUTION BY CATEGORIES:\")\n",
        "aqi_dist = df_raw['AQI_Category'].value_counts()\n",
        "aqi_order = ['Good', 'Satisfactory', 'Moderate', 'Poor', 'Very Poor', 'Severe']\n",
        "\n",
        "for category in aqi_order:\n",
        "    if category in aqi_dist.index:\n",
        "        count = aqi_dist[category]\n",
        "        pct = (count / len(df_raw) * 100)\n",
        "        print(f\"   • {category:12s}: {count:4d} records ({pct:5.1f}%)\")\n"
      ],
      "metadata": {
        "colab": {
          "base_uri": "https://localhost:8080/"
        },
        "id": "bmhMy3veBp3h",
        "outputId": "883341c8-46bc-42ff-e16d-9ad5155e801f"
      },
      "execution_count": 42,
      "outputs": [
        {
          "output_type": "stream",
          "name": "stdout",
          "text": [
            "📊 AQI DISTRIBUTION BY CATEGORIES:\n",
            "   • Good        :   51 records (  3.5%)\n",
            "   • Satisfactory:  267 records ( 18.3%)\n",
            "   • Moderate    :  463 records ( 31.7%)\n",
            "   • Poor        :  384 records ( 26.3%)\n",
            "   • Very Poor   :  231 records ( 15.8%)\n",
            "   • Severe      :   65 records (  4.4%)\n"
          ]
        }
      ]
    },
    {
      "cell_type": "code",
      "source": [
        "print(f\"\\n📈 AQI STATISTICS:\")\n",
        "print(f\"   • Mean AQI: {df_raw['AQI'].mean():.1f}\")\n",
        "print(f\"   • Median AQI: {df_raw['AQI'].median():.1f}\")\n",
        "print(f\"   • Std Dev: {df_raw['AQI'].std():.1f}\")\n",
        "print(f\"   • Days with AQI > 300 (Very Poor/Severe): {(df_raw['AQI'] > 300).sum()} ({(df_raw['AQI'] > 300).mean()*100:.1f}%)\")\n",
        "print(f\"   • Days with AQI > 200 (Poor+): {(df_raw['AQI'] > 200).sum()} ({(df_raw['AQI'] > 200).mean()*100:.1f}%)\")\n"
      ],
      "metadata": {
        "colab": {
          "base_uri": "https://localhost:8080/"
        },
        "id": "wgC7s5v7Buhq",
        "outputId": "c3ee6b94-aec2-4dea-a7ab-c21ee3c5136f"
      },
      "execution_count": 43,
      "outputs": [
        {
          "output_type": "stream",
          "name": "stdout",
          "text": [
            "\n",
            "📈 AQI STATISTICS:\n",
            "   • Mean AQI: 202.2\n",
            "   • Median AQI: 189.0\n",
            "   • Std Dev: 107.8\n",
            "   • Days with AQI > 300 (Very Poor/Severe): 296 (20.3%)\n",
            "   • Days with AQI > 200 (Poor+): 680 (46.5%)\n"
          ]
        }
      ]
    },
    {
      "cell_type": "markdown",
      "source": [
        "# Cell 5: Correlation analysis and final audit summary"
      ],
      "metadata": {
        "id": "HPLvuvfHFjO_"
      }
    },
    {
      "cell_type": "code",
      "source": [
        "# Calculate correlation matrix for pollution variables\n",
        "pollution_vars = ['PM2.5', 'PM10', 'NO2', 'SO2', 'CO', 'Ozone', 'AQI']\n",
        "corr_matrix = df_raw[pollution_vars].corr()\n",
        "\n",
        "print(\"📊 CORRELATION WITH AQI (Target Variable):\")\n",
        "aqi_corr = corr_matrix['AQI'].drop('AQI').sort_values(key=abs, ascending=False)\n",
        "for var, corr in aqi_corr.items():\n",
        "    strength = \"Very Strong\" if abs(corr) >= 0.8 else \"Strong\" if abs(corr) >= 0.6 else \"Moderate\" if abs(corr) >= 0.4 else \"Weak\"\n",
        "    print(f\"   • {var:6s}: {corr:6.3f} ({strength})\")\n"
      ],
      "metadata": {
        "colab": {
          "base_uri": "https://localhost:8080/"
        },
        "id": "vkhgh9TEFoV9",
        "outputId": "98a69082-af98-4e67-fe08-a98b097c9ef0"
      },
      "execution_count": 44,
      "outputs": [
        {
          "output_type": "stream",
          "name": "stdout",
          "text": [
            "📊 CORRELATION WITH AQI (Target Variable):\n",
            "   • PM10  :  0.899 (Very Strong)\n",
            "   • PM2.5 :  0.802 (Very Strong)\n",
            "   • CO    :  0.697 (Strong)\n",
            "   • NO2   :  0.319 (Weak)\n",
            "   • Ozone : -0.164 (Weak)\n",
            "   • SO2   :  0.036 (Weak)\n"
          ]
        }
      ]
    },
    {
      "cell_type": "code",
      "source": [
        "# Get upper triangle of correlation matrix (excluding diagonal)\n",
        "import numpy as np\n",
        "corr_upper = corr_matrix.where(np.triu(np.ones(corr_matrix.shape), k=1).astype(bool))\n",
        "corr_pairs = corr_upper.unstack().dropna().sort_values(key=abs, ascending=False)\n",
        "\n",
        "for (var1, var2), corr in corr_pairs.head(5).items():\n",
        "    if var1 != var2:  # Skip self-correlations\n",
        "        print(f\"   • {var1} ↔ {var2}: {corr:.3f}\")"
      ],
      "metadata": {
        "colab": {
          "base_uri": "https://localhost:8080/"
        },
        "id": "fDyhErDZFuTh",
        "outputId": "5447d526-0201-445b-dc62-239dd2bd63a1"
      },
      "execution_count": 46,
      "outputs": [
        {
          "output_type": "stream",
          "name": "stdout",
          "text": [
            "   • AQI ↔ PM10: 0.899\n",
            "   • AQI ↔ PM2.5: 0.802\n",
            "   • PM10 ↔ PM2.5: 0.722\n",
            "   • AQI ↔ CO: 0.697\n",
            "   • CO ↔ PM2.5: 0.690\n"
          ]
        }
      ]
    },
    {
      "cell_type": "code",
      "source": [
        "# Monthly AQI trends\n",
        "monthly_aqi = df_raw.groupby('Month')['AQI'].agg(['mean', 'std', 'min', 'max']).round(1)\n",
        "print(\"📅 AVERAGE AQI BY MONTH:\")\n",
        "month_names = ['Jan', 'Feb', 'Mar', 'Apr', 'May', 'Jun',\n",
        "               'Jul', 'Aug', 'Sep', 'Oct', 'Nov', 'Dec']\n",
        "\n",
        "worst_months = monthly_aqi['mean'].nlargest(3)\n",
        "best_months = monthly_aqi['mean'].nsmallest(3)\n",
        "\n",
        "for month, stats in monthly_aqi.iterrows():\n",
        "    month_name = month_names[month-1]\n",
        "    marker = \"🔴\" if month in worst_months.index else \"🟢\" if month in best_months.index else \"  \"\n",
        "    print(f\"   {marker} {month_name}: {stats['mean']:6.1f} avg (±{stats['std']:5.1f})\")\n"
      ],
      "metadata": {
        "colab": {
          "base_uri": "https://localhost:8080/"
        },
        "id": "dev57QkjF2Zx",
        "outputId": "ecd6ebe1-02e4-4f4f-de00-36ef36bcd531"
      },
      "execution_count": 47,
      "outputs": [
        {
          "output_type": "stream",
          "name": "stdout",
          "text": [
            "📅 AVERAGE AQI BY MONTH:\n",
            "   🔴 Jan:  305.7 avg (± 88.2)\n",
            "      Feb:  239.7 avg (± 83.4)\n",
            "      Mar:  200.1 avg (± 55.9)\n",
            "      Apr:  222.4 avg (± 70.8)\n",
            "      May:  199.7 avg (± 77.8)\n",
            "      Jun:  164.0 avg (± 68.6)\n",
            "   🟢 Jul:   90.4 avg (± 42.8)\n",
            "   🟢 Aug:   89.8 avg (± 36.1)\n",
            "   🟢 Sep:   87.3 avg (± 36.5)\n",
            "      Oct:  191.6 avg (± 90.1)\n",
            "   🔴 Nov:  342.1 avg (± 72.2)\n",
            "   🔴 Dec:  297.3 avg (± 84.8)\n"
          ]
        }
      ]
    },
    {
      "cell_type": "code",
      "source": [
        "\n",
        "# Day of week patterns\n",
        "print(f\"\\n📅 AVERAGE AQI BY DAY OF WEEK:\")\n",
        "daily_aqi = df_raw.groupby('Days')['AQI'].mean().round(1)\n",
        "day_names = ['Monday', 'Tuesday', 'Wednesday', 'Thursday', 'Friday', 'Saturday', 'Sunday']\n",
        "\n",
        "for day_num, avg_aqi in daily_aqi.items():\n",
        "    day_name = day_names[day_num-1] if day_num <= 7 else f\"Day_{day_num}\"\n",
        "    print(f\"   • {day_name:9s}: {avg_aqi:6.1f}\")"
      ],
      "metadata": {
        "colab": {
          "base_uri": "https://localhost:8080/"
        },
        "id": "UIwG761HF3QP",
        "outputId": "b1269225-4c59-4f76-8003-9c0036452570"
      },
      "execution_count": 48,
      "outputs": [
        {
          "output_type": "stream",
          "name": "stdout",
          "text": [
            "\n",
            "📅 AVERAGE AQI BY DAY OF WEEK:\n",
            "   • Monday   :  198.2\n",
            "   • Tuesday  :  204.4\n",
            "   • Wednesday:  203.5\n",
            "   • Thursday :  203.2\n",
            "   • Friday   :  203.9\n",
            "   • Saturday :  200.6\n",
            "   • Sunday   :  201.7\n"
          ]
        }
      ]
    },
    {
      "cell_type": "code",
      "source": [
        "# Holiday vs non-holiday\n",
        "holiday_aqi = df_raw.groupby('Holidays_Count')['AQI'].agg(['mean', 'count']).round(1)\n",
        "print(f\"\\n🎉 AQI: HOLIDAYS vs NON-HOLIDAYS:\")\n",
        "for holiday, stats in holiday_aqi.iterrows():\n",
        "    holiday_label = \"Regular Days\" if holiday == 0 else \"Holiday Days\"\n",
        "    print(f\"   • {holiday_label:12s}: {stats['mean']:6.1f} avg AQI ({stats['count']} days)\")\n"
      ],
      "metadata": {
        "colab": {
          "base_uri": "https://localhost:8080/"
        },
        "id": "qFZ8caM2GD_o",
        "outputId": "7313b646-d3db-44d6-c77d-3b0615fd6819"
      },
      "execution_count": 49,
      "outputs": [
        {
          "output_type": "stream",
          "name": "stdout",
          "text": [
            "\n",
            "🎉 AQI: HOLIDAYS vs NON-HOLIDAYS:\n",
            "   • Regular Days:  202.2 avg AQI (1184.0 days)\n",
            "   • Holiday Days:  202.3 avg AQI (277.0 days)\n"
          ]
        }
      ]
    },
    {
      "cell_type": "code",
      "source": [
        "print(\"🎯 FINAL AUDIT SUMMARY\")\n",
        "print(\"=\"*60)\n",
        "\n",
        "print(f\"✅ DATA QUALITY ASSESSMENT:\")\n",
        "print(f\"   • Dataset is CLEAN: No missing values, no duplicates\")\n",
        "print(f\"   • Time coverage: 4 years (2021-2024), all months represented\")\n",
        "print(f\"   • Balanced temporal distribution across days/months\")\n",
        "print(f\"   • Some outliers present (~1-6% per variable) - normal for pollution data\")\n",
        "print(f\"   • Potential data capping at 1000 for PM2.5/PM10 (1 case each)\")\n",
        "\n",
        "print(f\"\\n🎯 TARGET VARIABLE (AQI) INSIGHTS:\")\n",
        "print(f\"   • Highly concerning air quality: 46.5% of days are 'Poor' or worse\")\n",
        "print(f\"   • Only 21.8% of days have 'Good' or 'Satisfactory' air quality\")\n",
        "print(f\"   • Strong correlation with PM2.5 ({aqi_corr['PM2.5']:.3f}) - expected primary driver\")\n",
        "\n",
        "print(f\"\\n🎯 RECOMMENDED NEXT STEPS:\")\n",
        "print(f\"   • Primary target: AQI (well-distributed, no missing values)\")\n",
        "print(f\"   • Key predictors: PM2.5, PM10, NO2 (strongest AQI correlations)\")\n",
        "print(f\"   • Consider seasonal patterns (monthly variations observed)\")\n",
        "print(f\"   • Handle outliers carefully - may represent real extreme pollution events\")\n",
        "print(f\"   • Feature engineering: Add seasonal indicators, lagged values, rolling averages\")\n"
      ],
      "metadata": {
        "colab": {
          "base_uri": "https://localhost:8080/"
        },
        "id": "Uliy3OV-GKyu",
        "outputId": "9c2b3455-9bae-469d-8f26-ec287e1093eb"
      },
      "execution_count": 50,
      "outputs": [
        {
          "output_type": "stream",
          "name": "stdout",
          "text": [
            "🎯 FINAL AUDIT SUMMARY\n",
            "============================================================\n",
            "✅ DATA QUALITY ASSESSMENT:\n",
            "   • Dataset is CLEAN: No missing values, no duplicates\n",
            "   • Time coverage: 4 years (2021-2024), all months represented\n",
            "   • Balanced temporal distribution across days/months\n",
            "   • Some outliers present (~1-6% per variable) - normal for pollution data\n",
            "   • Potential data capping at 1000 for PM2.5/PM10 (1 case each)\n",
            "\n",
            "🎯 TARGET VARIABLE (AQI) INSIGHTS:\n",
            "   • Highly concerning air quality: 46.5% of days are 'Poor' or worse\n",
            "   • Only 21.8% of days have 'Good' or 'Satisfactory' air quality\n",
            "   • Strong correlation with PM2.5 (0.802) - expected primary driver\n",
            "\n",
            "🎯 RECOMMENDED NEXT STEPS:\n",
            "   • Primary target: AQI (well-distributed, no missing values)\n",
            "   • Key predictors: PM2.5, PM10, NO2 (strongest AQI correlations)\n",
            "   • Consider seasonal patterns (monthly variations observed)\n",
            "   • Handle outliers carefully - may represent real extreme pollution events\n",
            "   • Feature engineering: Add seasonal indicators, lagged values, rolling averages\n",
            "\n",
            "✅ Ready to proceed to Step 5: Data Cleaning!\n"
          ]
        }
      ]
    }
  ]
}